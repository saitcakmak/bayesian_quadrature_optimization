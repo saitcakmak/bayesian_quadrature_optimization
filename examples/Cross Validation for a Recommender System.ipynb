{
 "cells": [
  {
   "cell_type": "code",
   "execution_count": 3,
   "metadata": {
    "collapsed": false
   },
   "outputs": [],
   "source": [
    "import sys\n",
    "# Add the repo path\n",
    "sys.path.append('/Users/saultoscano/Documents/research/GitHub/stratified_bayesian_optimization')\n",
    "from stratified_bayesian_optimization.services.bgo import bgo"
   ]
  },
  {
   "cell_type": "markdown",
   "metadata": {},
   "source": [
    "## Cross Validation for a Recommender System"
   ]
  },
  {
   "cell_type": "markdown",
   "metadata": {},
   "source": [
    "For a complete description of the problem see 'Bayesian Optimization with Expensive Integrands' by Saul Toscano-Palmerin and Peter Frazier."
   ]
  },
  {
   "cell_type": "code",
   "execution_count": 2,
   "metadata": {
    "collapsed": false
   },
   "outputs": [
    {
     "name": "stdout",
     "output_type": "stream",
     "text": [
      "INFO:stratified_bayesian_optimization.util.json_file:Loading problems/arxiv/data/2016_1_fold_indexes.json\n",
      "INFO:stratified_bayesian_optimization.util.json_file:Loading problems/arxiv/data/2016_1_fold_0_training_data.json\n",
      "INFO:stratified_bayesian_optimization.util.json_file:Loading problems/arxiv/data/2016_1_fold_0_validation_data.json\n",
      "INFO:stratified_bayesian_optimization.util.json_file:Loading problems/arxiv/data/2016_1_fold_1_training_data.json\n",
      "INFO:stratified_bayesian_optimization.util.json_file:Loading problems/arxiv/data/2016_1_fold_1_validation_data.json\n",
      "INFO:stratified_bayesian_optimization.util.json_file:Loading problems/arxiv/data/2016_1_fold_2_training_data.json\n",
      "INFO:stratified_bayesian_optimization.util.json_file:Loading problems/arxiv/data/2016_1_fold_2_validation_data.json\n",
      "INFO:stratified_bayesian_optimization.util.json_file:Loading problems/arxiv/data/2016_1_fold_3_training_data.json\n",
      "INFO:stratified_bayesian_optimization.util.json_file:Loading problems/arxiv/data/2016_1_fold_3_validation_data.json\n",
      "INFO:stratified_bayesian_optimization.util.json_file:Loading problems/arxiv/data/2016_1_fold_4_training_data.json\n",
      "INFO:stratified_bayesian_optimization.util.json_file:Loading problems/arxiv/data/2016_1_fold_4_validation_data.json\n"
     ]
    }
   ],
   "source": [
    "from problems.arxiv.main import *"
   ]
  },
  {
   "cell_type": "code",
   "execution_count": 3,
   "metadata": {
    "collapsed": false
   },
   "outputs": [],
   "source": [
    "def f(x):\n",
    "    return main(x)"
   ]
  },
  {
   "cell_type": "code",
   "execution_count": 4,
   "metadata": {
    "collapsed": false
   },
   "outputs": [],
   "source": [
    "def g(x):\n",
    "    return main_objective(x)"
   ]
  },
  {
   "cell_type": "code",
   "execution_count": 5,
   "metadata": {
    "collapsed": true
   },
   "outputs": [],
   "source": [
    "bounds_domain_x = [(0.01, 5.0), (0.0, 2.1), (1, 21), (1, 201)]\n",
    "bounds_domain_w = [[0, 1, 2, 3, 4]]\n",
    "type_bounds = [0, 0, 0, 0, 1]\n",
    "name_method = 'bqo'\n",
    "n_iterations = 2\n",
    "random_seed =  1\n",
    "n_training = 5\n",
    "n_restarts = 2\n",
    "n_restarts_mean = 1\n",
    "n_best_restarts_mean = 0\n",
    "maxepoch = 10\n",
    "thinning = 5\n",
    "n_burning = 30\n",
    "maxepoch_mean = 10\n",
    "default_n_samples_parameters = 5\n",
    "default_n_samples = 5\n"
   ]
  },
  {
   "cell_type": "code",
   "execution_count": 6,
   "metadata": {
    "collapsed": false
   },
   "outputs": [
    {
     "name": "stdout",
     "output_type": "stream",
     "text": [
      "INFO:stratified_bayesian_optimization.services.training_data:Getting training data\n",
      "INFO:stratified_bayesian_optimization.util.json_file:Loading problems/user_problem/data/training_data_user_problem_default_training_data_5_points_rs_1_5_1.json\n",
      "INFO:stratified_bayesian_optimization.services.gp_fitting:Training GPFittingGaussian\n",
      "INFO:stratified_bayesian_optimization.acquisition_functions.ei:Results of the optimization of the EI: \n",
      "INFO:stratified_bayesian_optimization.acquisition_functions.ei:{'gradient': array([  5.32410053e-04,   2.42407873e-03,  -1.14142670e-04,\n",
      "         2.75853164e-05]), 'optimal_value': array([ 0.00710548]), 'solution': array([   5.        ,    1.56785564,    1.40453505,  121.59898983])}\n",
      "INFO:stratified_bayesian_optimization.acquisition_functions.sbo:candidate solutions are: \n",
      "INFO:stratified_bayesian_optimization.acquisition_functions.sbo:[[   0.84858643    0.86594607    4.89484195   28.29188086    0.        ]\n",
      " [   1.04856977    1.06594219    4.89480029   28.0925427     1.        ]\n",
      " [   1.04857865    1.06594076    4.694843     28.29214905    2.        ]\n",
      " [   0.84858306    1.06594285    4.89482662   28.09231952    3.        ]\n",
      " [   1.04857951    0.86594681    4.6948565    28.29224969    4.        ]\n",
      " [   1.22370518    0.74179608    6.95250912   79.57000321    0.        ]\n",
      " [   1.2237019     0.74179731    7.15241764   79.37045916    1.        ]\n",
      " [   1.02372042    0.54179912    6.95267468   79.5701495     2.        ]\n",
      " [   1.02371318    0.5418035     7.15244877   79.56802898    3.        ]\n",
      " [   1.2237095     0.54180005    6.95256981   79.37092329    4.        ]\n",
      " [   4.90003644    1.46786448    1.50450595  121.6989845     0.        ]]\n",
      "INFO:stratified_bayesian_optimization.numerical_tools.bayesian_quadrature:starting_optimization of posterior mean\n",
      "INFO:stratified_bayesian_optimization.numerical_tools.bayesian_quadrature:starting_optimization of posterior mean\n",
      "INFO:stratified_bayesian_optimization.numerical_tools.bayesian_quadrature:starting_optimization of posterior mean\n",
      "INFO:stratified_bayesian_optimization.numerical_tools.bayesian_quadrature:starting_optimization of posterior mean\n",
      "INFO:stratified_bayesian_optimization.numerical_tools.bayesian_quadrature:Results of the optimization of the posterior mean: \n",
      "INFO:stratified_bayesian_optimization.numerical_tools.bayesian_quadrature:Results of the optimization of the posterior mean: \n",
      "INFO:stratified_bayesian_optimization.numerical_tools.bayesian_quadrature:{'optimal_value': [-0.21897869154058891], 'solution': array([   5. ,    2.1,   21. ,  201. ])}\n",
      "INFO:stratified_bayesian_optimization.numerical_tools.bayesian_quadrature:Results of the optimization of the posterior mean: \n",
      "INFO:stratified_bayesian_optimization.numerical_tools.bayesian_quadrature:{'optimal_value': [-0.21897869154058891], 'solution': array([   5. ,    2.1,   21. ,  201. ])}\n",
      "INFO:stratified_bayesian_optimization.numerical_tools.bayesian_quadrature:{'optimal_value': [-0.21897869154058891], 'solution': array([   5. ,    2.1,   21. ,  201. ])}\n",
      "INFO:stratified_bayesian_optimization.numerical_tools.bayesian_quadrature:starting_optimization of posterior mean\n",
      "INFO:stratified_bayesian_optimization.numerical_tools.bayesian_quadrature:Results of the optimization of the posterior mean: \n",
      "INFO:stratified_bayesian_optimization.numerical_tools.bayesian_quadrature:{'optimal_value': [-0.21897869154058891], 'solution': array([   5. ,    2.1,   21. ,  201. ])}\n",
      "INFO:stratified_bayesian_optimization.numerical_tools.bayesian_quadrature:Results of the optimization of the posterior mean: \n",
      "INFO:stratified_bayesian_optimization.numerical_tools.bayesian_quadrature:{'optimal_value': [-0.21897869154058891], 'solution': array([   5. ,    2.1,   21. ,  201. ])}\n",
      "INFO:stratified_bayesian_optimization.acquisition_functions.sbo:Results of the optimization of the SBO: \n",
      "INFO:stratified_bayesian_optimization.acquisition_functions.sbo:{'gradient': array([ -3.21206293e-05,  -9.73754238e-05,  -4.70171512e-05,\n",
      "         1.59980582e-06,   0.00000000e+00]), 'optimal_value': 0.00069541783877496435, 'solution': array([  1.22370518,   0.74179608,   6.95250912,  79.57000321,   0.        ])}\n"
     ]
    },
    {
     "name": "stderr",
     "output_type": "stream",
     "text": [
      "stratified_bayesian_optimization/acquisition_functions/sbo.py:1915: FutureWarning: elementwise comparison failed; returning scalar instead, but in the future will perform elementwise comparison\n",
      "  if vect_gradient == 'unavailable' or np.any(np.isnan(vect_gradient)):\n"
     ]
    },
    {
     "name": "stdout",
     "output_type": "stream",
     "text": [
      "INFO:stratified_bayesian_optimization.acquisition_functions.ei:Results of the optimization of the EI: \n",
      "INFO:stratified_bayesian_optimization.acquisition_functions.ei:{'gradient': array([  3.17069896e-04,  -3.96719344e-02,  -6.64008308e-06,\n",
      "         3.10096646e-04]), 'optimal_value': array([ 0.0467891]), 'solution': array([  4.95021012e+00,   6.63077269e-02,   6.94621249e+00,\n",
      "         1.99578272e+02])}\n",
      "INFO:stratified_bayesian_optimization.acquisition_functions.sbo:candidate solutions are: \n",
      "INFO:stratified_bayesian_optimization.acquisition_functions.sbo:[[  3.97941592e+00   1.97442161e+00   1.40677989e+01   9.43986911e+01\n",
      "    0.00000000e+00]\n",
      " [  3.97900049e+00   2.10000000e+00   1.40677498e+01   9.45932052e+01\n",
      "    1.00000000e+00]\n",
      " [  3.77944275e+00   1.97441694e+00   1.38679892e+01   9.44079695e+01\n",
      "    2.00000000e+00]\n",
      " [  3.97938539e+00   1.97441701e+00   1.38678865e+01   9.45937133e+01\n",
      "    3.00000000e+00]\n",
      " [  3.97939445e+00   1.97441838e+00   1.38692247e+01   9.45968459e+01\n",
      "    4.00000000e+00]\n",
      " [  3.19879711e+00   2.78213798e-01   2.42823104e+00   1.38382393e+02\n",
      "    0.00000000e+00]\n",
      " [  2.99881002e+00   2.78213609e-01   2.62794698e+00   1.38382288e+02\n",
      "    1.00000000e+00]\n",
      " [  3.19879150e+00   2.78211597e-01   2.42797757e+00   1.38182800e+02\n",
      "    2.00000000e+00]\n",
      " [  3.19880337e+00   2.78213349e-01   2.62764803e+00   1.38182524e+02\n",
      "    3.00000000e+00]\n",
      " [  2.99880960e+00   2.78213673e-01   2.42839304e+00   1.38369338e+02\n",
      "    4.00000000e+00]\n",
      " [  4.85063332e+00   1.66307647e-01   6.84623236e+00   1.99488573e+02\n",
      "    4.00000000e+00]]\n",
      "INFO:stratified_bayesian_optimization.numerical_tools.bayesian_quadrature:starting_optimization of posterior mean\n",
      "INFO:stratified_bayesian_optimization.numerical_tools.bayesian_quadrature:starting_optimization of posterior mean\n",
      "INFO:stratified_bayesian_optimization.numerical_tools.bayesian_quadrature:starting_optimization of posterior mean\n",
      "INFO:stratified_bayesian_optimization.numerical_tools.bayesian_quadrature:starting_optimization of posterior mean\n",
      "INFO:stratified_bayesian_optimization.numerical_tools.bayesian_quadrature:Results of the optimization of the posterior mean: \n",
      "INFO:stratified_bayesian_optimization.numerical_tools.bayesian_quadrature:{'optimal_value': [-0.16688567185778988], 'solution': array([   5.,    0.,   21.,  201.])}\n",
      "INFO:stratified_bayesian_optimization.numerical_tools.bayesian_quadrature:starting_optimization of posterior mean\n",
      "INFO:stratified_bayesian_optimization.numerical_tools.bayesian_quadrature:Results of the optimization of the posterior mean: \n",
      "INFO:stratified_bayesian_optimization.numerical_tools.bayesian_quadrature:{'optimal_value': [-0.16688567185778988], 'solution': array([   5.,    0.,   21.,  201.])}\n",
      "INFO:stratified_bayesian_optimization.numerical_tools.bayesian_quadrature:Results of the optimization of the posterior mean: \n",
      "INFO:stratified_bayesian_optimization.numerical_tools.bayesian_quadrature:{'optimal_value': [-0.16688567185778988], 'solution': array([   5.,    0.,   21.,  201.])}\n",
      "INFO:stratified_bayesian_optimization.numerical_tools.bayesian_quadrature:Results of the optimization of the posterior mean: \n",
      "INFO:stratified_bayesian_optimization.numerical_tools.bayesian_quadrature:{'optimal_value': [-0.16688567185778988], 'solution': array([   5.,    0.,   21.,  201.])}\n",
      "INFO:stratified_bayesian_optimization.numerical_tools.bayesian_quadrature:Results of the optimization of the posterior mean: \n",
      "INFO:stratified_bayesian_optimization.numerical_tools.bayesian_quadrature:{'optimal_value': [-0.16688567185778988], 'solution': array([   5.,    0.,   21.,  201.])}\n",
      "INFO:stratified_bayesian_optimization.acquisition_functions.sbo:Results of the optimization of the SBO: \n",
      "INFO:stratified_bayesian_optimization.acquisition_functions.sbo:{'gradient': array([ -1.04858265e-04,  -7.64938800e-04,  -5.18546189e-06,\n",
      "        -1.05399600e-07,   0.00000000e+00]), 'optimal_value': -0.0016642410677041863, 'solution': array([  3.97939445,   1.97441838,  13.86922474,  94.59684593,   4.        ])}\n",
      "INFO:stratified_bayesian_optimization.acquisition_functions.ei:Results of the optimization of the EI: \n",
      "INFO:stratified_bayesian_optimization.acquisition_functions.ei:{'gradient': array([  2.83487470e-02,  -1.37745053e-02,   3.97767716e-06,\n",
      "         1.49103413e-07]), 'optimal_value': array([ 0.05773797]), 'solution': array([ 4.54789098,  0.        ,  6.44065614,  6.82223579])}\n",
      "INFO:stratified_bayesian_optimization.acquisition_functions.sbo:candidate solutions are: \n",
      "INFO:stratified_bayesian_optimization.acquisition_functions.sbo:[[   3.77625232    0.56836564   11.85250917  118.63495034    0.        ]\n",
      " [   3.77635742    0.56836972   11.85253649  118.63460967    1.        ]\n",
      " [   3.77628285    0.36837012   11.85261648  118.63450403    2.        ]\n",
      " [   3.97624969    0.36884582   11.85405055  118.83361314    3.        ]\n",
      " [   3.97625034    0.5683639    11.8524961   118.83442391    4.        ]\n",
      " [   3.04212464    1.87857445    9.40740229   91.53252578    0.        ]\n",
      " [   3.04211557    1.87852385    9.20752608   91.73231952    1.        ]\n",
      " [   3.04212777    1.8785504     9.21485138   91.72639399    2.        ]\n",
      " [   2.84213003    1.87852697    9.20748824   91.73225951    3.        ]\n",
      " [   3.04212594    2.07852283    9.40745943   91.53233623    4.        ]\n",
      " [   4.74762754    0.14680425    6.46449568    7.16371568    0.        ]]\n",
      "INFO:stratified_bayesian_optimization.numerical_tools.bayesian_quadrature:starting_optimization of posterior mean\n",
      "INFO:stratified_bayesian_optimization.numerical_tools.bayesian_quadrature:starting_optimization of posterior mean\n",
      "INFO:stratified_bayesian_optimization.numerical_tools.bayesian_quadrature:starting_optimization of posterior mean\n",
      "INFO:stratified_bayesian_optimization.numerical_tools.bayesian_quadrature:starting_optimization of posterior mean\n",
      "INFO:stratified_bayesian_optimization.numerical_tools.bayesian_quadrature:Results of the optimization of the posterior mean: \n",
      "INFO:stratified_bayesian_optimization.numerical_tools.bayesian_quadrature:{'optimal_value': [-0.18962181975416406], 'solution': array([   5.,    0.,   21.,  201.])}\n",
      "INFO:stratified_bayesian_optimization.numerical_tools.bayesian_quadrature:starting_optimization of posterior mean\n",
      "INFO:stratified_bayesian_optimization.numerical_tools.bayesian_quadrature:Results of the optimization of the posterior mean: \n",
      "INFO:stratified_bayesian_optimization.numerical_tools.bayesian_quadrature:{'optimal_value': [-0.18962181975416406], 'solution': array([   5.,    0.,   21.,  201.])}\n",
      "INFO:stratified_bayesian_optimization.numerical_tools.bayesian_quadrature:Results of the optimization of the posterior mean: \n",
      "INFO:stratified_bayesian_optimization.numerical_tools.bayesian_quadrature:{'optimal_value': array([-0.10632011]), 'task': 'CONVERGENCE: NORM_OF_PROJECTED_GRADIENT_<=_PGTOL', 'gradient': array([  3.60861097e-02,  -1.17778697e-05,   1.72776895e-06,\n",
      "         8.78812305e-06]), 'solution': array([   5.        ,    0.        ,    4.47871744,  200.65402388]), 'funcalls': 8, 'warnflag': 0, 'nit': 3}\n",
      "INFO:stratified_bayesian_optimization.numerical_tools.bayesian_quadrature:Results of the optimization of the posterior mean: \n",
      "INFO:stratified_bayesian_optimization.numerical_tools.bayesian_quadrature:{'optimal_value': [-0.18962181975416406], 'solution': array([   5.,    0.,   21.,  201.])}\n",
      "INFO:stratified_bayesian_optimization.numerical_tools.bayesian_quadrature:Results of the optimization of the posterior mean: \n",
      "INFO:stratified_bayesian_optimization.numerical_tools.bayesian_quadrature:{'optimal_value': [-0.18962181975416406], 'solution': array([   5.,    0.,   21.,  201.])}\n",
      "INFO:stratified_bayesian_optimization.acquisition_functions.sbo:Results of the optimization of the SBO: \n",
      "INFO:stratified_bayesian_optimization.acquisition_functions.sbo:{'gradient': array([  2.84316292e-05,   3.91254556e-04,   1.23695089e-05,\n",
      "         2.84547180e-06,   0.00000000e+00]), 'optimal_value': 0.0024152666408470943, 'solution': array([   3.77628285,    0.36837012,   11.85261648,  118.63450403,    2.        ])}\n",
      "INFO:stratified_bayesian_optimization.numerical_tools.bayesian_quadrature:starting_optimization of posterior mean\n",
      "INFO:stratified_bayesian_optimization.numerical_tools.bayesian_quadrature:Results of the optimization of the posterior mean: \n",
      "INFO:stratified_bayesian_optimization.numerical_tools.bayesian_quadrature:{'optimal_value': [-0.17658546531087441], 'solution': array([   5.,    0.,   21.,  201.])}\n"
     ]
    }
   ],
   "source": [
    "sol = bgo(\n",
    "    g, bounds_domain_x, integrand_function=f, bounds_domain_w=bounds_domain_w, type_bounds=type_bounds,\n",
    "    name_method=name_method, n_iterations=n_iterations, random_seed=random_seed, n_training=n_training, \n",
    "    n_restarts=n_restarts, n_restarts_mean=n_restarts_mean, n_best_restarts_mean=n_best_restarts_mean,\n",
    "    maxepoch=maxepoch, thinning=thinning, n_burning=n_burning, maxepoch_mean=maxepoch_mean, \n",
    "    default_n_samples_parameters=default_n_samples_parameters, default_n_samples=default_n_samples)"
   ]
  },
  {
   "cell_type": "code",
   "execution_count": 7,
   "metadata": {
    "collapsed": false
   },
   "outputs": [
    {
     "data": {
      "text/plain": [
       "{'optimal_solution': array([   5.,    0.,   21.,  201.]),\n",
       " 'optimal_value': -0.14561914512227178}"
      ]
     },
     "execution_count": 7,
     "metadata": {},
     "output_type": "execute_result"
    }
   ],
   "source": [
    "sol"
   ]
  }
 ],
 "metadata": {
  "kernelspec": {
   "display_name": "Python 2",
   "language": "python",
   "name": "python2"
  },
  "language_info": {
   "codemirror_mode": {
    "name": "ipython",
    "version": 2
   },
   "file_extension": ".py",
   "mimetype": "text/x-python",
   "name": "python",
   "nbconvert_exporter": "python",
   "pygments_lexer": "ipython2",
   "version": "2.7.13"
  }
 },
 "nbformat": 4,
 "nbformat_minor": 2
}
