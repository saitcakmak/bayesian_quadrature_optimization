{
 "cells": [
  {
   "cell_type": "code",
   "execution_count": 3,
   "metadata": {
    "collapsed": false
   },
   "outputs": [],
   "source": [
    "import sys\n",
    "# Add the repo path\n",
    "sys.path.append('/Users/saultoscano/Documents/research/GitHub/stratified_bayesian_optimization') \n",
    "from stratified_bayesian_optimization.services.bgo import bgo"
   ]
  },
  {
   "cell_type": "code",
   "execution_count": 4,
   "metadata": {
    "collapsed": true
   },
   "outputs": [],
   "source": [
    "from scipy.stats import gamma"
   ]
  },
  {
   "cell_type": "markdown",
   "metadata": {},
   "source": [
    "## Newsvendor Problem under Dynamic Consumer Substitution"
   ]
  },
  {
   "cell_type": "markdown",
   "metadata": {},
   "source": [
    "For a complete description of the problem see 'Bayesian Optimization with Expensive Integrands' by Saul Toscano-Palmerin and Peter Frazier."
   ]
  },
  {
   "cell_type": "code",
   "execution_count": 5,
   "metadata": {
    "collapsed": true
   },
   "outputs": [],
   "source": [
    "from problems.vendor_problem.main import *"
   ]
  },
  {
   "cell_type": "code",
   "execution_count": 6,
   "metadata": {
    "collapsed": true
   },
   "outputs": [],
   "source": [
    "def f(x, n_samples):\n",
    "    return main(n_samples, x)"
   ]
  },
  {
   "cell_type": "code",
   "execution_count": 7,
   "metadata": {
    "collapsed": true
   },
   "outputs": [],
   "source": [
    "def g(x):\n",
    "    return main_objective(1, x)"
   ]
  },
  {
   "cell_type": "code",
   "execution_count": 13,
   "metadata": {
    "collapsed": false
   },
   "outputs": [],
   "source": [
    "customers = 1000\n",
    "lower_bound = gamma.ppf(.001, customers)\n",
    "upper_bound = gamma.ppf(.999, customers)\n",
    "\n",
    "bounds_domain_x = [(0, customers), (0, customers)]\n",
    "bounds_domain_w = [[lower_bound, upper_bound], [lower_bound, upper_bound]]\n",
    "type_bounds = [0, 0, 0, 0]\n",
    "name_method = 'bqo'\n",
    "n_iterations = 2\n",
    "random_seed =  2\n",
    "n_training = 4\n",
    "n_restarts = 2\n",
    "n_restarts_mean = 1\n",
    "n_best_restarts_mean = 0\n",
    "maxepoch = 10\n",
    "thinning = 5\n",
    "n_burning = 30\n",
    "maxepoch_mean = 10\n",
    "default_n_samples_parameters = 5\n",
    "default_n_samples = 5\n",
    "\n",
    "distribution = 'gamma'\n",
    "noise = True\n",
    "n_samples_noise = 5\n",
    "parameters_distribution = {'scale': [1.0], 'a': [customers]}"
   ]
  },
  {
   "cell_type": "code",
   "execution_count": 14,
   "metadata": {
    "collapsed": false
   },
   "outputs": [
    {
     "name": "stdout",
     "output_type": "stream",
     "text": [
      "INFO:stratified_bayesian_optimization.util.json_file:Loading data/gp_models/user_problem/gp_GPFittingGaussian_user_problem_Scaled_kernel_Matern52_default_training_data_4_points_rs_2.json\n",
      "INFO:stratified_bayesian_optimization.services.training_data:Getting training data\n",
      "INFO:stratified_bayesian_optimization.util.json_file:Loading problems/user_problem/data/training_data_user_problem_default_training_data_4_points_rs_2_4_2.json\n",
      "INFO:stratified_bayesian_optimization.services.gp_fitting:Training GPFittingGaussian\n",
      "INFO:stratified_bayesian_optimization.acquisition_functions.ei:Results of the optimization of the EI: \n",
      "INFO:stratified_bayesian_optimization.acquisition_functions.ei:{'gradient': array([  4.12040414e-03,   3.49440895e+00,   5.03995703e-04,\n",
      "        -5.60387324e-04]), 'optimal_value': array([ 718.52780594]), 'solution': array([  133.4783086 ,   484.26092208,  1027.51389302,   927.28565207])}\n",
      "INFO:stratified_bayesian_optimization.acquisition_functions.sbo:candidate solutions are: \n",
      "INFO:stratified_bayesian_optimization.acquisition_functions.sbo:[[  308.70467697   443.13717107   909.08064804  1028.90711465]\n",
      " [  133.57830831   484.36092207  1027.41389716   927.38565192]]\n",
      "INFO:stratified_bayesian_optimization.numerical_tools.bayesian_quadrature:starting_optimization of posterior mean\n",
      "INFO:stratified_bayesian_optimization.numerical_tools.bayesian_quadrature:starting_optimization of posterior mean\n",
      "INFO:stratified_bayesian_optimization.numerical_tools.bayesian_quadrature:starting_optimization of posterior mean\n",
      "INFO:stratified_bayesian_optimization.numerical_tools.bayesian_quadrature:starting_optimization of posterior mean\n",
      "INFO:stratified_bayesian_optimization.numerical_tools.bayesian_quadrature:Results of the optimization of the posterior mean: \n",
      "INFO:stratified_bayesian_optimization.numerical_tools.bayesian_quadrature:{'optimal_value': array([ 5404.55898864]), 'task': 'CONVERGENCE: NORM_OF_PROJECTED_GRADIENT_<=_PGTOL', 'gradient': array([ -1.77940123e-06,   1.42407897e-06]), 'solution': array([ 969.76635347,  495.55543936]), 'funcalls': 15, 'warnflag': 0, 'nit': 10}\n",
      "INFO:stratified_bayesian_optimization.numerical_tools.bayesian_quadrature:starting_optimization of posterior mean\n",
      "INFO:stratified_bayesian_optimization.numerical_tools.bayesian_quadrature:Results of the optimization of the posterior mean: \n",
      "INFO:stratified_bayesian_optimization.numerical_tools.bayesian_quadrature:{'optimal_value': array([ 5257.03702271]), 'task': 'CONVERGENCE: REL_REDUCTION_OF_F_<=_FACTR*EPSMCH', 'gradient': array([ -1.23510582e-05,   1.79595538e-04]), 'solution': array([ 819.74968808,  488.57395335]), 'funcalls': 17, 'warnflag': 0, 'nit': 9}\n",
      "INFO:stratified_bayesian_optimization.numerical_tools.bayesian_quadrature:Results of the optimization of the posterior mean: \n",
      "INFO:stratified_bayesian_optimization.numerical_tools.bayesian_quadrature:{'optimal_value': array([ 5526.88005345]), 'task': 'CONVERGENCE: REL_REDUCTION_OF_F_<=_FACTR*EPSMCH', 'gradient': array([ 0.0002888 ,  0.00126122]), 'solution': array([ 608.55590195,  500.0189507 ]), 'funcalls': 18, 'warnflag': 0, 'nit': 6}\n",
      "INFO:stratified_bayesian_optimization.numerical_tools.bayesian_quadrature:Results of the optimization of the posterior mean: \n",
      "INFO:stratified_bayesian_optimization.numerical_tools.bayesian_quadrature:{'optimal_value': array([ 5514.05542719]), 'task': 'CONVERGENCE: NORM_OF_PROJECTED_GRADIENT_<=_PGTOL', 'gradient': array([  2.93876140e-03,  -7.71709648e-06]), 'solution': array([ 1000.        ,   499.41560818]), 'funcalls': 29, 'warnflag': 0, 'nit': 19}\n",
      "INFO:stratified_bayesian_optimization.numerical_tools.bayesian_quadrature:Results of the optimization of the posterior mean: \n",
      "INFO:stratified_bayesian_optimization.numerical_tools.bayesian_quadrature:{'optimal_value': array([ 5315.88893254]), 'task': 'CONVERGENCE: NORM_OF_PROJECTED_GRADIENT_<=_PGTOL', 'gradient': array([ -1.84594673e-06,  -2.75747937e-06]), 'solution': array([ 857.60248107,  491.71248039]), 'funcalls': 8, 'warnflag': 0, 'nit': 7}\n",
      "INFO:stratified_bayesian_optimization.acquisition_functions.sbo:Results of the optimization of the SBO: \n",
      "INFO:stratified_bayesian_optimization.acquisition_functions.sbo:{'gradient': array([  3.58126949e-05,   3.72383755e-01,  -1.30321346e-03,\n",
      "         6.37628899e-05]), 'optimal_value': 41.489215347548452, 'solution': array([  133.57830831,   484.36092207,  1027.41389716,   927.38565192])}\n"
     ]
    },
    {
     "name": "stderr",
     "output_type": "stream",
     "text": [
      "stratified_bayesian_optimization/acquisition_functions/sbo.py:1915: FutureWarning: elementwise comparison failed; returning scalar instead, but in the future will perform elementwise comparison\n",
      "  if vect_gradient == 'unavailable' or np.any(np.isnan(vect_gradient)):\n"
     ]
    },
    {
     "name": "stdout",
     "output_type": "stream",
     "text": [
      "INFO:stratified_bayesian_optimization.acquisition_functions.ei:Results of the optimization of the EI: \n",
      "INFO:stratified_bayesian_optimization.acquisition_functions.ei:{'gradient': array([  1.76077253e-04,  -3.10628676e-01,  -1.33713607e-03,\n",
      "         8.59254493e-05]), 'optimal_value': array([ 230.94460561]), 'solution': array([  163.75116637,   769.08749482,  1075.03875357,   927.61698585])}\n",
      "INFO:stratified_bayesian_optimization.acquisition_functions.sbo:candidate solutions are: \n",
      "INFO:stratified_bayesian_optimization.acquisition_functions.sbo:[[   55.94014038   383.01683453  1047.39726872  1092.29850778]\n",
      " [  163.84917753   768.98749482  1074.93881388   927.71691533]]\n",
      "INFO:stratified_bayesian_optimization.numerical_tools.bayesian_quadrature:starting_optimization of posterior mean\n",
      "INFO:stratified_bayesian_optimization.numerical_tools.bayesian_quadrature:starting_optimization of posterior mean\n",
      "INFO:stratified_bayesian_optimization.numerical_tools.bayesian_quadrature:starting_optimization of posterior mean\n",
      "INFO:stratified_bayesian_optimization.numerical_tools.bayesian_quadrature:starting_optimization of posterior mean\n",
      "INFO:stratified_bayesian_optimization.numerical_tools.bayesian_quadrature:Results of the optimization of the posterior mean: \n",
      "INFO:stratified_bayesian_optimization.numerical_tools.bayesian_quadrature:{'optimal_value': array([ 4703.9210297]), 'task': 'CONVERGENCE: REL_REDUCTION_OF_F_<=_FACTR*EPSMCH', 'gradient': array([ 0.0018348 , -0.01064352]), 'solution': array([ 553.46344008,  433.21404883]), 'funcalls': 16, 'warnflag': 0, 'nit': 7}\n",
      "INFO:stratified_bayesian_optimization.numerical_tools.bayesian_quadrature:starting_optimization of posterior mean\n",
      "INFO:stratified_bayesian_optimization.numerical_tools.bayesian_quadrature:Results of the optimization of the posterior mean: \n",
      "INFO:stratified_bayesian_optimization.numerical_tools.bayesian_quadrature:{'optimal_value': array([ 4707.24151168]), 'task': 'CONVERGENCE: REL_REDUCTION_OF_F_<=_FACTR*EPSMCH', 'gradient': array([  1.20504510e-05,  -1.45077300e-04]), 'solution': array([ 994.13096808,  432.62455976]), 'funcalls': 15, 'warnflag': 0, 'nit': 8}\n",
      "INFO:stratified_bayesian_optimization.numerical_tools.bayesian_quadrature:Results of the optimization of the posterior mean: \n",
      "INFO:stratified_bayesian_optimization.numerical_tools.bayesian_quadrature:{'optimal_value': array([ 4707.6687854]), 'task': 'CONVERGENCE: REL_REDUCTION_OF_F_<=_FACTR*EPSMCH', 'gradient': array([  2.21545533e-05,  -3.59774620e-06]), 'solution': array([ 958.32993408,  432.50479563]), 'funcalls': 10, 'warnflag': 0, 'nit': 6}\n",
      "INFO:stratified_bayesian_optimization.numerical_tools.bayesian_quadrature:Results of the optimization of the posterior mean: \n",
      "INFO:stratified_bayesian_optimization.numerical_tools.bayesian_quadrature:{'optimal_value': array([ 4732.21197352]), 'task': 'CONVERGENCE: REL_REDUCTION_OF_F_<=_FACTR*EPSMCH', 'gradient': array([ 0.03872693, -0.0001656 ]), 'solution': array([ 1000.        ,   433.09800545]), 'funcalls': 21, 'warnflag': 0, 'nit': 15}\n",
      "INFO:stratified_bayesian_optimization.numerical_tools.bayesian_quadrature:Results of the optimization of the posterior mean: \n",
      "INFO:stratified_bayesian_optimization.numerical_tools.bayesian_quadrature:{'optimal_value': array([ 4707.44019579]), 'task': 'CONVERGENCE: NORM_OF_PROJECTED_GRADIENT_<=_PGTOL', 'gradient': array([  7.51943297e-06,  -1.96527086e-06]), 'solution': array([ 815.23620606,  432.53446411]), 'funcalls': 6, 'warnflag': 0, 'nit': 5}\n",
      "INFO:stratified_bayesian_optimization.acquisition_functions.sbo:Results of the optimization of the SBO: \n",
      "INFO:stratified_bayesian_optimization.acquisition_functions.sbo:{'gradient': array([  2.96551972e-06,  -5.42833276e-02,  -9.12750859e-04,\n",
      "        -5.97039593e-06]), 'optimal_value': 10.636886749363294, 'solution': array([  163.84917753,   768.98749482,  1074.93881388,   927.71691533])}\n",
      "INFO:stratified_bayesian_optimization.numerical_tools.bayesian_quadrature:starting_optimization of posterior mean\n",
      "INFO:stratified_bayesian_optimization.numerical_tools.bayesian_quadrature:Results of the optimization of the posterior mean: \n",
      "INFO:stratified_bayesian_optimization.numerical_tools.bayesian_quadrature:{'gradient': array([ -2.63934194e+00,  -2.01806965e-04]), 'optimal_value': array([ 4546.08256382]), 'solution': array([ 390.2737903 ,  106.82866858])}\n"
     ]
    }
   ],
   "source": [
    "sol = bgo(\n",
    "    g, bounds_domain_x, integrand_function=f, bounds_domain_w=bounds_domain_w, type_bounds=type_bounds,\n",
    "    name_method=name_method, n_iterations=n_iterations, random_seed=random_seed, n_training=n_training, \n",
    "    n_restarts=n_restarts, n_restarts_mean=n_restarts_mean, n_best_restarts_mean=n_best_restarts_mean,\n",
    "    maxepoch=maxepoch, thinning=thinning, n_burning=n_burning, maxepoch_mean=maxepoch_mean, \n",
    "    default_n_samples_parameters=default_n_samples_parameters, default_n_samples=default_n_samples,\n",
    "    distribution=distribution, noise=noise, n_samples_noise=n_samples_noise, \n",
    "    parameters_distribution=parameters_distribution)"
   ]
  },
  {
   "cell_type": "code",
   "execution_count": 15,
   "metadata": {
    "collapsed": false
   },
   "outputs": [
    {
     "data": {
      "text/plain": [
       "{'optimal_solution': array([ 390.2737903 ,  106.82866858]),\n",
       " 'optimal_value': 2018.0}"
      ]
     },
     "execution_count": 15,
     "metadata": {},
     "output_type": "execute_result"
    }
   ],
   "source": [
    "sol"
   ]
  }
 ],
 "metadata": {
  "kernelspec": {
   "display_name": "Python 2",
   "language": "python",
   "name": "python2"
  },
  "language_info": {
   "codemirror_mode": {
    "name": "ipython",
    "version": 2
   },
   "file_extension": ".py",
   "mimetype": "text/x-python",
   "name": "python",
   "nbconvert_exporter": "python",
   "pygments_lexer": "ipython2",
   "version": "2.7.13"
  }
 },
 "nbformat": 4,
 "nbformat_minor": 2
}
